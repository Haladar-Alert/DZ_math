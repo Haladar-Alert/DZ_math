{
  "cells": [
    {
      "cell_type": "markdown",
      "metadata": {
        "id": "view-in-github",
        "colab_type": "text"
      },
      "source": [
        "<a href=\"https://colab.research.google.com/github/Haladar-Alert/DZ_math/blob/main/%D0%94%D0%B7_1*.ipynb\" target=\"_parent\"><img src=\"https://colab.research.google.com/assets/colab-badge.svg\" alt=\"Open In Colab\"/></a>"
      ]
    },
    {
      "cell_type": "markdown",
      "source": [
        "<a href=\"https://colab.research.google.com/drive/1Nx_klyuwQfMlq_v3woczmeeI3ZKiSdvY?usp=sharing\" target=\"_parent\"><img src=\"https://colab.research.google.com/assets/colab-badge.svg\" alt=\"Open In Colab\"/></a>"
      ],
      "metadata": {
        "id": "BPnoMGlR4rUB"
      }
    },
    {
      "cell_type": "markdown",
      "metadata": {
        "id": "xw8BD8v2oBGj"
      },
      "source": [
        "# Homework"
      ]
    },
    {
      "cell_type": "markdown",
      "metadata": {
        "id": "sSos7q2_oBGj"
      },
      "source": [
        "## Problem 1"
      ]
    },
    {
      "cell_type": "markdown",
      "metadata": {
        "id": "NiX8ePp0oBGk"
      },
      "source": [
        "Make a tuple containing natural numbers, the square of which is a multiple of 3, 4, but not a multiple of 8 and not exceeding 12345."
      ]
    },
    {
      "cell_type": "code",
      "execution_count": null,
      "metadata": {
        "id": "XmPHEnS9oBGk",
        "outputId": "8447b349-d3c0-4932-ec20-1776433f61a8",
        "colab": {
          "base_uri": "https://localhost:8080/"
        }
      },
      "outputs": [
        {
          "output_type": "stream",
          "name": "stdout",
          "text": [
            "(6, 18, 30, 42, 54, 66, 78, 90, 102)\n"
          ]
        }
      ],
      "source": [
        "max_n = int(12345 ** 0.5)\n",
        "result = tuple(n for n in range(1, max_n + 1) if n % 6 == 0 and n % 12 != 0)\n",
        "print(result)"
      ]
    },
    {
      "cell_type": "markdown",
      "metadata": {
        "id": "OZBeUyxcoBGk"
      },
      "source": [
        "## Problem 2"
      ]
    },
    {
      "cell_type": "markdown",
      "metadata": {
        "id": "zIfvg22noBGk"
      },
      "source": [
        "\n",
        "Write a function that takes a two-dimensional array and a string as input and returns an array rotated 90 degrees counterclockwise if the string 'left' was passed, and clockwise if the string 'right' was passed.\n",
        "\n",
        "Example for input: $\\begin{bmatrix} 1 & 2 & 3 \\\\ 4 & 5 & 6 \\\\ 7 & 8 & 9 \\end{bmatrix}$.\\\n",
        "If the string 'left' is passed, the function should return $\\begin{bmatrix} 3 & 6 & 9 \\\\ 2 & 5 & 8 \\\\ 1 & 4 & 7 \\end{bmatrix}$, and if the string 'right' is passed, the function should return $\\begin{bmatrix} 7 & 4 & 1 \\\\ 8 & 5 & 2 \\\\ 9 & 6 & 3 \\end{bmatrix}$."
      ]
    },
    {
      "cell_type": "code",
      "execution_count": 1,
      "metadata": {
        "id": "HNvy_cRjoBGk",
        "outputId": "668592fb-45db-4e8b-f11f-fe75d390236d",
        "colab": {
          "base_uri": "https://localhost:8080/"
        }
      },
      "outputs": [
        {
          "output_type": "stream",
          "name": "stdout",
          "text": [
            "Поворот матрицы против часовой стрелки (left):\n",
            "[3, 6, 9]\n",
            "[2, 5, 8]\n",
            "[1, 4, 7]\n",
            "\n",
            "Поворот матрицы по часовой стрелке (right):\n",
            "[7, 4, 1]\n",
            "[8, 5, 2]\n",
            "[9, 6, 3]\n"
          ]
        }
      ],
      "source": [
        "def rotate(arr, direction):\n",
        "    if direction == 'left':\n",
        "        return [list(row) for row in zip(*arr)][::-1]\n",
        "    elif direction == 'right':\n",
        "        return [list(row) for row in zip(*arr[::-1])]\n",
        "    else:\n",
        "        print(\"Команда поворота не распознана, матрица остается без изменений\")\n",
        "        return arr\n",
        "\n",
        "# Пример использования функции\n",
        "matrix = [\n",
        "    [1, 2, 3],\n",
        "    [4, 5, 6],\n",
        "    [7, 8, 9]\n",
        "]\n",
        "\n",
        "print(\"Поворот матрицы против часовой стрелки (left):\")\n",
        "for row in rotate(matrix, 'left'):\n",
        "    print(row)\n",
        "\n",
        "print(\"\\nПоворот матрицы по часовой стрелке (right):\")\n",
        "for row in rotate(matrix, 'right'):\n",
        "    print(row)\n"
      ]
    },
    {
      "cell_type": "markdown",
      "metadata": {
        "id": "_dY-PFlCoBGk"
      },
      "source": [
        "## Problem 3"
      ]
    },
    {
      "cell_type": "markdown",
      "metadata": {
        "id": "3CaIwcm0oBGk"
      },
      "source": [
        "Write a function that takes a string as input and returns a dictionary containing the number of occurrences of each character in the string.\n",
        "\n",
        "Example for the string 'hello, world!': {'h': 1, 'e': 1, 'l': 3, 'o': 2, ',': 1, ' ': 1, 'w': 1, 'r': 1, 'd': 1, '!': 1}."
      ]
    },
    {
      "cell_type": "code",
      "execution_count": null,
      "metadata": {
        "id": "rlSbHusZoBGk",
        "outputId": "ef60d86c-2cac-4760-bf5b-4612a44b81a1",
        "colab": {
          "base_uri": "https://localhost:8080/"
        }
      },
      "outputs": [
        {
          "output_type": "stream",
          "name": "stdout",
          "text": [
            "{'h': 2, 'e': 3, 'l': 5, 'o': 3, ',': 1, ' ': 4, 'w': 1, 'r': 1, 'd': 1, '!': 1, 'I': 1, 'v': 1, 'i': 1, 'f': 1, ';': 1, ')': 1}\n"
          ]
        }
      ],
      "source": [
        "# Your solution here\n",
        "def count_characters(text):\n",
        "    # Создаем пустой словарь для подсчета символов\n",
        "    counts = {}\n",
        "\n",
        "    # Проходим по каждому символу в строке\n",
        "    for char in text:\n",
        "        # Если символ уже есть в словаре, увеличиваем его счетчик\n",
        "        if char in counts:\n",
        "            counts[char] += 1\n",
        "        else:\n",
        "            # Если символа еще нет, добавляем его в словарь с начальным значением 1\n",
        "            counts[char] = 1\n",
        "\n",
        "    # Возвращаем словарь с подсчитанными вхождениями\n",
        "    return counts\n",
        "\n",
        "# Пример использования функции\n",
        "example_text = \"hhello, world! I love life;)\"\n",
        "result = count_characters(example_text)\n",
        "print(result)\n"
      ]
    },
    {
      "cell_type": "markdown",
      "metadata": {
        "id": "KBGJ7PeboBGk"
      },
      "source": [
        "## Problem 4"
      ]
    },
    {
      "cell_type": "markdown",
      "metadata": {
        "id": "XS4Seqa9oBGk"
      },
      "source": [
        "### Implementing a Library Management System\n",
        "\n",
        "#### Description\n",
        "\n",
        "You are required to design and implement a system for managing books and users in a library. The system should allow for the management of books (adding, deleting, searching by various criteria) and users (registration, deletion, searching), as well as tracking the history of interactions between them (issuing and returning books).\n",
        "\n",
        "#### Tasks\n",
        "\n",
        "1. **`Book` Class**:\n",
        "   - Attributes: title, author, year of publication, ISBN, number of copies.\n",
        "   - Methods: constructor, methods to get information about the book, method to change the number of copies (when issuing and returning books).\n",
        "\n",
        "2. **`User` Class**:\n",
        "   - Attributes: user name, library card number, list of borrowed books.\n",
        "   - Methods: constructor, methods for user registration, methods for adding and removing books from the borrowed list.\n",
        "\n",
        "3. **`Library` Class**:\n",
        "   - Attributes: list of books, list of users, transaction history (who, when, which book was borrowed and returned).\n",
        "   - Methods: constructor, methods for adding and deleting books and users, methods for issuing and returning books, searching for books and users by various criteria, method to display the transaction history.\n",
        "\n",
        "#### Assignment\n",
        "\n",
        "1. Implement the `Book`, `User`, and `Library` classes with the specified attributes and methods.\n",
        "2. Create several books and users, and add them to the library system.\n",
        "3. Implement scenarios for issuing books to users and their return.\n",
        "4. Display the transaction history to show how books were issued and returned.\n"
      ]
    },
    {
      "cell_type": "code",
      "execution_count": 4,
      "metadata": {
        "id": "IbqwtWWsoBGl",
        "outputId": "abbd8d77-99e6-4a6b-9a32-2b9e054da6e4",
        "colab": {
          "base_uri": "https://localhost:8080/"
        }
      },
      "outputs": [
        {
          "output_type": "stream",
          "name": "stdout",
          "text": [
            "Библиотека запущена и готова к работе.\n",
            "Добавлена книга: 'Война и мир' (1869), автор Лев Толстой. ISBN: 978-5-17-093330-8. Доступно копий: 3.\n",
            "Добавлена книга: 'Преступление и наказание' (1866), автор Фёдор Достоевский. ISBN: 978-5-389-07474-7. Доступно копий: 2.\n",
            "Книга 'Война и мир' добавлена в библиотеку.\n",
            "Книга 'Преступление и наказание' добавлена в библиотеку.\n",
            "Пользователь 'Иван' с номером карты 101 зарегистрирован.\n",
            "Пользователь 'Мария' с номером карты 102 зарегистрирован.\n",
            "Пользователь 'Иван' зарегистрирован в системе.\n",
            "Пользователь 'Мария' зарегистрирован в системе.\n",
            "Обновление копий книги 'Война и мир': теперь доступно 2 экземпляров.\n",
            "Пользователь 'Иван' взял книгу 'Война и мир'.\n",
            "Обновление копий книги 'Преступление и наказание': теперь доступно 1 экземпляров.\n",
            "Пользователь 'Мария' взял книгу 'Преступление и наказание'.\n",
            "Обновление копий книги 'Преступление и наказание': теперь доступно 0 экземпляров.\n",
            "Пользователь 'Иван' взял книгу 'Преступление и наказание'.\n",
            "Обновление копий книги 'Война и мир': теперь доступно 3 экземпляров.\n",
            "Пользователь 'Иван' вернул книгу 'Война и мир'.\n",
            "История транзакций:\n",
            "Выдана: Книга 'Война и мир' у пользователя 'Иван'.\n",
            "Выдана: Книга 'Преступление и наказание' у пользователя 'Мария'.\n",
            "Выдана: Книга 'Преступление и наказание' у пользователя 'Иван'.\n",
            "Возвращена: Книга 'Война и мир' у пользователя 'Иван'.\n",
            "Найдено книг по критерию author = 'Лев Толстой':\n",
            "Книга: 'Война и мир' | Автор: Лев Толстой | Год: 1869 | ISBN: 978-5-17-093330-8 | Осталось: 3\n",
            "Найдено пользователей по критерию name = 'Иван':\n",
            "Имя: Иван, Карта: 101\n"
          ]
        }
      ],
      "source": [
        "class Book:\n",
        "    def __init__(self, title, author, year, isbn, copies):\n",
        "        self.title = title\n",
        "        self.author = author\n",
        "        self.year = year\n",
        "        self.isbn = isbn\n",
        "        self.copies = copies\n",
        "        print(\"Добавлена книга: '{}' ({}), автор {}. ISBN: {}. Доступно копий: {}.\"\n",
        "              .format(self.title, self.year, self.author, self.isbn, self.copies))\n",
        "\n",
        "    def details(self):\n",
        "        return \"Книга: '{}' | Автор: {} | Год: {} | ISBN: {} | Осталось: {}\".format(\n",
        "            self.title, self.author, self.year, self.isbn, self.copies\n",
        "        )\n",
        "\n",
        "    def adjust_copies(self, amount):\n",
        "        self.copies = max(self.copies + amount, 0)\n",
        "        print(\"Обновление копий книги '{}': теперь доступно {} экземпляров.\".format(self.title, self.copies))\n",
        "\n",
        "\n",
        "class User:\n",
        "    def __init__(self, name, card_number):\n",
        "        self.name = name\n",
        "        self.card_number = card_number\n",
        "        self.borrowed = []  # список книг, взятых пользователем\n",
        "        print(\"Пользователь '{}' с номером карты {} зарегистрирован.\".format(self.name, self.card_number))\n",
        "\n",
        "    def take_book(self, book):\n",
        "        if book.copies > 0:\n",
        "            self.borrowed.append(book)\n",
        "            book.adjust_copies(-1)\n",
        "            print(\"Пользователь '{}' взял книгу '{}'.\".format(self.name, book.title))\n",
        "            return True\n",
        "        else:\n",
        "            print(\"Книга '{}' не доступна для выдачи пользователю '{}'.\".format(book.title, self.name))\n",
        "            return False\n",
        "\n",
        "    def return_book(self, book):\n",
        "        if book in self.borrowed:\n",
        "            self.borrowed.remove(book)\n",
        "            book.adjust_copies(1)\n",
        "            print(\"Пользователь '{}' вернул книгу '{}'.\".format(self.name, book.title))\n",
        "            return True\n",
        "        else:\n",
        "            print(\"Ошибка: пользователь '{}' не имеет книгу '{}'.\".format(self.name, book.title))\n",
        "            return False\n",
        "\n",
        "    def list_borrowed(self):\n",
        "        return [b.title for b in self.borrowed]\n",
        "\n",
        "\n",
        "class Library:\n",
        "    def __init__(self):\n",
        "        self.book_collection = []\n",
        "        self.registered_users = []\n",
        "        self.transactions = []  # история операций выдачи и возврата\n",
        "        print(\"Библиотека запущена и готова к работе.\")\n",
        "\n",
        "    def add_book(self, book):\n",
        "        if book not in self.book_collection:\n",
        "            self.book_collection.append(book)\n",
        "            print(\"Книга '{}' добавлена в библиотеку.\".format(book.title))\n",
        "        else:\n",
        "            print(\"Книга '{}' уже есть в библиотеке.\".format(book.title))\n",
        "\n",
        "    def remove_book(self, book):\n",
        "        if book in self.book_collection:\n",
        "            self.book_collection.remove(book)\n",
        "            print(\"Книга '{}' удалена из библиотеки.\".format(book.title))\n",
        "        else:\n",
        "            print(\"Книга '{}' не найдена в библиотеке.\".format(book.title))\n",
        "\n",
        "    def register_user(self, user):\n",
        "        if user not in self.registered_users:\n",
        "            self.registered_users.append(user)\n",
        "            print(\"Пользователь '{}' зарегистрирован в системе.\".format(user.name))\n",
        "        else:\n",
        "            print(\"Пользователь '{}' уже зарегистрирован.\".format(user.name))\n",
        "\n",
        "    def unregister_user(self, user):\n",
        "        if user in self.registered_users:\n",
        "            self.registered_users.remove(user)\n",
        "            print(\"Пользователь '{}' удалён из системы.\".format(user.name))\n",
        "        else:\n",
        "            print(\"Пользователь '{}' не найден в системе.\".format(user.name))\n",
        "\n",
        "    def lend_book(self, user, book):\n",
        "        if book in self.book_collection and book.copies > 0:\n",
        "            if user.take_book(book):\n",
        "                self.transactions.append({\n",
        "                    'action': 'Выдана',\n",
        "                    'user': user.name,\n",
        "                    'book': book.title\n",
        "                })\n",
        "        else:\n",
        "            print(\"Книга '{}' недоступна для выдачи.\".format(book.title))\n",
        "\n",
        "    def receive_return(self, user, book):\n",
        "        if user.return_book(book):\n",
        "            self.transactions.append({\n",
        "                'action': 'Возвращена',\n",
        "                'user': user.name,\n",
        "                'book': book.title\n",
        "            })\n",
        "\n",
        "    def search_books(self, attribute, value):\n",
        "        results = []\n",
        "        for book in self.book_collection:\n",
        "            if getattr(book, attribute, None) == value:\n",
        "                results.append(book.details())\n",
        "        if results:\n",
        "            print(\"Найдено книг по критерию {} = '{}':\".format(attribute, value))\n",
        "            for info in results:\n",
        "                print(info)\n",
        "        else:\n",
        "            print(\"По критерию {} = '{}' книг не найдено.\".format(attribute, value))\n",
        "        return results\n",
        "\n",
        "    def search_users(self, attribute, value):\n",
        "        results = []\n",
        "        for user in self.registered_users:\n",
        "            if getattr(user, attribute, None) == value:\n",
        "                results.append(\"Имя: {}, Карта: {}\".format(user.name, user.card_number))\n",
        "        if results:\n",
        "            print(\"Найдено пользователей по критерию {} = '{}':\".format(attribute, value))\n",
        "            for info in results:\n",
        "                print(info)\n",
        "        else:\n",
        "            print(\"По критерию {} = '{}' пользователей не найдено.\".format(attribute, value))\n",
        "        return results\n",
        "\n",
        "    def show_transactions(self):\n",
        "        print(\"История транзакций:\")\n",
        "        for trans in self.transactions:\n",
        "            print(\"{}: Книга '{}' у пользователя '{}'.\".format(\n",
        "                trans['action'], trans['book'], trans['user']\n",
        "            ))\n",
        "\n",
        "\n",
        "# Пример работы системы:\n",
        "if __name__ == \"__main__\":\n",
        "    # Создание библиотеки\n",
        "    lib = Library()\n",
        "\n",
        "    # Добавление книг\n",
        "    war_and_peace = Book(\"Война и мир\", \"Лев Толстой\", 1869, \"978-5-17-093330-8\", 3)\n",
        "    crime_and_punishment = Book(\"Преступление и наказание\", \"Фёдор Достоевский\", 1866, \"978-5-389-07474-7\", 2)\n",
        "    lib.add_book(war_and_peace)\n",
        "    lib.add_book(crime_and_punishment)\n",
        "\n",
        "    # Регистрация пользователей\n",
        "    user_a = User(\"Иван\", 101)\n",
        "    user_b = User(\"Мария\", 102)\n",
        "    lib.register_user(user_a)\n",
        "    lib.register_user(user_b)\n",
        "\n",
        "    # Выдача книг\n",
        "    lib.lend_book(user_a, war_and_peace)\n",
        "    lib.lend_book(user_b, crime_and_punishment)\n",
        "    lib.lend_book(user_a, crime_and_punishment)\n",
        "\n",
        "    # Возврат книги\n",
        "    lib.receive_return(user_a, war_and_peace)\n",
        "\n",
        "    # Отображение истории транзакций\n",
        "    lib.show_transactions()\n",
        "\n",
        "    # Поиск по критериям\n",
        "    lib.search_books(\"author\", \"Лев Толстой\")\n",
        "    lib.search_users(\"name\", \"Иван\")\n"
      ]
    },
    {
      "cell_type": "markdown",
      "metadata": {
        "id": "0c8zRbSIoBGl"
      },
      "source": [
        "## Problem 5*"
      ]
    },
    {
      "cell_type": "markdown",
      "metadata": {
        "id": "8ltdzRmOoBGl"
      },
      "source": [
        "Explain why list `b` changes after the execution of the following code:\n",
        "\n",
        "```python\n",
        "a = [1, 2, 3]\n",
        "b = a\n",
        "a[0] = 4\n",
        "print(b)\n",
        "```"
      ]
    },
    {
      "cell_type": "markdown",
      "metadata": {
        "id": "RxgnUfFPoBGl"
      },
      "source": [
        "> Write your answer in markdown cell after:"
      ]
    },
    {
      "cell_type": "markdown",
      "metadata": {
        "id": "Mb-amOX5oBGl"
      },
      "source": [
        "В Python переменные хранят ссылки на объекты, а не сами объекты. Когда мы пишем b = a, обе переменные a и b начинают ссылаться на один и тот же список в памяти. Это значит, что любое изменение списка через a повлияет и на b.\n",
        "\n",
        "Чтобы этого избежать, необходимо создать копию списка, а не копировать ссылку. Для этого можно использовать:\n",
        "\n",
        "Метод `.copy()` – создаёт поверхностную копию списка.\n",
        "\n",
        "Функцию `list()` – аналогичен `.copy()`.\n",
        "Модуль `copy.deepcopy()` – создаёт глубокую копию, которая полезна при наличии вложенных списков."
      ]
    },
    {
      "cell_type": "code",
      "source": [
        "import copy  # Подключаем модуль для глубокого копирования\n",
        "\n",
        "# Пример с копированием ссылки (неправильный вариант)\n",
        "a = [1, 2, 3]  # Создаём список\n",
        "b = a  # b ссылается на тот же объект, что и a\n",
        "a[0] = 4  # Изменяем первый элемент списка\n",
        "print(b)  # Выведет: [4, 2, 3] — b тоже изменился, так как это тот же объект\n",
        "\n",
        "# Правильный способ: поверхностное копирование\n",
        "a = [1, 2, 3]\n",
        "b = a.copy()  # Создаём копию списка\n",
        "a[0] = 4  # Изменяем a, но b остаётся неизменным\n",
        "print(b)  # Выведет: [1, 2, 3]\n",
        "\n",
        "# Альтернативный способ: использование list()\n",
        "a = [1, 2, 3]\n",
        "b = list(a)  # Создаём новый список на основе a\n",
        "a[0] = 4\n",
        "print(b)  # Выведет: [1, 2, 3]\n",
        "\n",
        "# Глубокое копирование для вложенных структур\n",
        "a = [1, [2, 3], 4]\n",
        "b = copy.deepcopy(a)  # Полностью копируем объект, включая вложенные списки\n",
        "a[1][0] = 'изменено'  # Меняем вложенный список\n",
        "print(b)  # Выведет: [1, [2, 3], 4] — вложенные элементы не изменились"
      ],
      "metadata": {
        "id": "9bBQ73AZQHy3"
      },
      "execution_count": null,
      "outputs": []
    },
    {
      "cell_type": "markdown",
      "metadata": {
        "id": "TmXLkc_foBGl"
      },
      "source": [
        "## Problem 6*"
      ]
    },
    {
      "cell_type": "markdown",
      "metadata": {
        "id": "Gn0ibiVCoBGl"
      },
      "source": [
        "Let\n",
        "$$A = \\sum_{i=1}^{10000} \\frac{1}{i^2},\\quad B=\\sum_{i=10000}^{1} \\frac{1}{i^2}.$$\n",
        "Calculate the values of $A$ and $B$ and compare them. What do you observe? Explain why this happens. What is the best way to calculate the value of $\\sum\\limits_{i=1}^{10000} \\dfrac{1}{i^2}$?"
      ]
    },
    {
      "cell_type": "code",
      "execution_count": null,
      "metadata": {
        "id": "3q93uGqFoBGl",
        "outputId": "4c4dbf09-76d2-432e-c89b-f3d2e63896fe",
        "colab": {
          "base_uri": "https://localhost:8080/"
        }
      },
      "outputs": [
        {
          "output_type": "stream",
          "name": "stdout",
          "text": [
            "A = 1.6448340718480652\n",
            "B = 1.6448340718480596\n",
            "Разница A - B = 5.551115123125783e-15\n"
          ]
        }
      ],
      "source": [
        "\"\"\"\n",
        "Данный код демонстрирует, как порядок суммирования влияет на точность вычислений при работе с числами с плавающей точкой.\n",
        "Мы вычисляем сумму S = ∑(1/i^2) для i от 1 до 10000 двумя способами:\n",
        "\n",
        "1. Суммирование в прямом порядке (переменная A):\n",
        "   - Сначала прибавляются большие слагаемые (например, 1, 1/4, 1/9 и т.д.),\n",
        "     а затем очень маленькие (например, 1/10000^2).\n",
        "   - При накоплении большой суммы прибавление очень маленьких чисел может не изменить сумму\n",
        "     из-за ограниченной точности представления чисел с плавающей точкой.\n",
        "   - Это приводит к тому, что итоговая сумма A может оказаться несколько завышенной.\n",
        "\n",
        "2. Суммирование в обратном порядке (переменная B):\n",
        "   - Сначала прибавляются маленькие слагаемые, что позволяет аккуратно их накопить,\n",
        "     а затем постепенно прибавляются большие.\n",
        "   - Такой порядок суммирования позволяет минимизировать потерю точности,\n",
        "     так как на каждом шаге слагаемые имеют сравнимые порядки величины.\n",
        "\n",
        "Таким образом, вычисленная сумма B оказывается более точной, чем A.\n",
        "Разница между ними (порядка 1e-15) является следствием ошибок округления при сложении\n",
        "вещественных чисел. Этот пример иллюстрирует, что выбор порядка операций важен для численных вычислений.\n",
        "\"\"\"\n",
        "\n",
        "# Инициализируем переменные для сумм A и B\n",
        "A, B = 0.0, 0.0\n",
        "\n",
        "# Суммирование по i от 1 до 10000:\n",
        "# A - прямой порядок (от больших слагаемых к меньшим)\n",
        "# B - обратный порядок (от меньших слагаемых к большим)\n",
        "for i in range(1, 10001):\n",
        "    A += 1 / (i ** 2)             # Прибавляем большие слагаемые в начале, затем маленькие\n",
        "    B += 1 / ((10001 - i) ** 2)     # Прибавляем маленькие слагаемые в начале, затем большие\n",
        "\n",
        "# Вывод результатов\n",
        "print(\"A =\", A)                  # Результат суммирования в прямом порядке\n",
        "print(\"B =\", B)                  # Результат суммирования в обратном порядке\n",
        "print(\"Разница A - B =\", A - B)  # Разница между суммами, показывающая влияние ошибок округления\n"
      ]
    }
  ],
  "metadata": {
    "colab": {
      "provenance": [],
      "include_colab_link": true
    },
    "kernelspec": {
      "display_name": "Python 3",
      "language": "python",
      "name": "python3"
    },
    "language_info": {
      "codemirror_mode": {
        "name": "ipython",
        "version": 3
      },
      "file_extension": ".py",
      "mimetype": "text/x-python",
      "name": "python",
      "nbconvert_exporter": "python",
      "pygments_lexer": "ipython3",
      "version": "3.10.6"
    }
  },
  "nbformat": 4,
  "nbformat_minor": 0
}