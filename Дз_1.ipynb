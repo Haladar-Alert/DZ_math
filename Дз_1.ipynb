{
  "cells": [
    {
      "cell_type": "markdown",
      "source": [
        "<a href=\"https://colab.research.google.com/drive/1Nx_klyuwQfMlq_v3woczmeeI3ZKiSdvY?usp=sharing\" target=\"_parent\"><img src=\"https://colab.research.google.com/assets/colab-badge.svg\" alt=\"Open In Colab\"/></a>"
      ],
      "metadata": {
        "id": "BPnoMGlR4rUB"
      }
    },
    {
      "cell_type": "markdown",
      "metadata": {
        "id": "xw8BD8v2oBGj"
      },
      "source": [
        "# Homework"
      ]
    },
    {
      "cell_type": "markdown",
      "metadata": {
        "id": "sSos7q2_oBGj"
      },
      "source": [
        "## Problem 1"
      ]
    },
    {
      "cell_type": "markdown",
      "metadata": {
        "id": "NiX8ePp0oBGk"
      },
      "source": [
        "Make a tuple containing natural numbers, the square of which is a multiple of 3, 4, but not a multiple of 8 and not exceeding 12345."
      ]
    },
    {
      "cell_type": "code",
      "execution_count": null,
      "metadata": {
        "id": "XmPHEnS9oBGk",
        "outputId": "8447b349-d3c0-4932-ec20-1776433f61a8",
        "colab": {
          "base_uri": "https://localhost:8080/"
        }
      },
      "outputs": [
        {
          "output_type": "stream",
          "name": "stdout",
          "text": [
            "(6, 18, 30, 42, 54, 66, 78, 90, 102)\n"
          ]
        }
      ],
      "source": [
        "max_n = int(12345 ** 0.5)\n",
        "result = tuple(n for n in range(1, max_n + 1) if n % 6 == 0 and n % 12 != 0)\n",
        "print(result)"
      ]
    },
    {
      "cell_type": "markdown",
      "metadata": {
        "id": "OZBeUyxcoBGk"
      },
      "source": [
        "## Problem 2"
      ]
    },
    {
      "cell_type": "markdown",
      "metadata": {
        "id": "zIfvg22noBGk"
      },
      "source": [
        "\n",
        "Write a function that takes a two-dimensional array and a string as input and returns an array rotated 90 degrees counterclockwise if the string 'left' was passed, and clockwise if the string 'right' was passed.\n",
        "\n",
        "Example for input: $\\begin{bmatrix} 1 & 2 & 3 \\\\ 4 & 5 & 6 \\\\ 7 & 8 & 9 \\end{bmatrix}$.\\\n",
        "If the string 'left' is passed, the function should return $\\begin{bmatrix} 3 & 6 & 9 \\\\ 2 & 5 & 8 \\\\ 1 & 4 & 7 \\end{bmatrix}$, and if the string 'right' is passed, the function should return $\\begin{bmatrix} 7 & 4 & 1 \\\\ 8 & 5 & 2 \\\\ 9 & 6 & 3 \\end{bmatrix}$."
      ]
    },
    {
      "cell_type": "code",
      "execution_count": null,
      "metadata": {
        "id": "HNvy_cRjoBGk",
        "outputId": "8f219992-6013-4789-9d07-4bb00f693e25",
        "colab": {
          "base_uri": "https://localhost:8080/"
        }
      },
      "outputs": [
        {
          "output_type": "stream",
          "name": "stdout",
          "text": [
            "Поворот матрицы против часовой стрелки (left):\n",
            "[3, 6, 9]\n",
            "[2, 5, 8]\n",
            "[1, 4, 7]\n",
            "\n",
            "Поворот матрицы по часовой стрелке (right):\n",
            "[7, 4, 1]\n",
            "[8, 5, 2]\n",
            "[9, 6, 3]\n"
          ]
        }
      ],
      "source": [
        "# Your solution here\n",
        "def rotate(arr, direction):\n",
        "    # Если передан поворот против часовой стрелки\n",
        "    if direction == 'left':\n",
        "        # При повороте против часовой стрелки новая матрица формируется следующим образом:\n",
        "        # для каждого столбца (от последнего к первому) собираем элементы из всех строк\n",
        "        return [[arr[i][j] for i in range(len(arr))]\n",
        "                for j in range(len(arr[0]) - 1, -1, -1)]\n",
        "    # Если передан поворот по часовой стрелке\n",
        "    elif direction == 'right':\n",
        "        # При повороте по часовой стрелке для каждого столбца (от первого к последнему)\n",
        "        # собираем элементы из строк в обратном порядке (с последней по первую)\n",
        "        return [[arr[i][j] for i in range(len(arr) - 1, -1, -1)]\n",
        "                for j in range(len(arr[0]))]\n",
        "    # Если команда не распознана, выводим сообщение и возвращаем исходную матрицу\n",
        "    print(\"Команда поворота не распознана, матрица остается без изменений\")\n",
        "    return arr\n",
        "\n",
        "# Пример использования функции\n",
        "matrix = [\n",
        "    [1, 2, 3],\n",
        "    [4, 5, 6],\n",
        "    [7, 8, 9]\n",
        "]\n",
        "\n",
        "print(\"Поворот матрицы против часовой стрелки (left):\")\n",
        "for row in rotate(matrix, 'left'):\n",
        "    print(row)\n",
        "\n",
        "print(\"\\nПоворот матрицы по часовой стрелке (right):\")\n",
        "for row in rotate(matrix, 'right'):\n",
        "    print(row)\n"
      ]
    },
    {
      "cell_type": "markdown",
      "metadata": {
        "id": "_dY-PFlCoBGk"
      },
      "source": [
        "## Problem 3"
      ]
    },
    {
      "cell_type": "markdown",
      "metadata": {
        "id": "3CaIwcm0oBGk"
      },
      "source": [
        "Write a function that takes a string as input and returns a dictionary containing the number of occurrences of each character in the string.\n",
        "\n",
        "Example for the string 'hello, world!': {'h': 1, 'e': 1, 'l': 3, 'o': 2, ',': 1, ' ': 1, 'w': 1, 'r': 1, 'd': 1, '!': 1}."
      ]
    },
    {
      "cell_type": "code",
      "execution_count": null,
      "metadata": {
        "id": "rlSbHusZoBGk",
        "outputId": "ef60d86c-2cac-4760-bf5b-4612a44b81a1",
        "colab": {
          "base_uri": "https://localhost:8080/"
        }
      },
      "outputs": [
        {
          "output_type": "stream",
          "name": "stdout",
          "text": [
            "{'h': 2, 'e': 3, 'l': 5, 'o': 3, ',': 1, ' ': 4, 'w': 1, 'r': 1, 'd': 1, '!': 1, 'I': 1, 'v': 1, 'i': 1, 'f': 1, ';': 1, ')': 1}\n"
          ]
        }
      ],
      "source": [
        "# Your solution here\n",
        "def count_characters(text):\n",
        "    # Создаем пустой словарь для подсчета символов\n",
        "    counts = {}\n",
        "\n",
        "    # Проходим по каждому символу в строке\n",
        "    for char in text:\n",
        "        # Если символ уже есть в словаре, увеличиваем его счетчик\n",
        "        if char in counts:\n",
        "            counts[char] += 1\n",
        "        else:\n",
        "            # Если символа еще нет, добавляем его в словарь с начальным значением 1\n",
        "            counts[char] = 1\n",
        "\n",
        "    # Возвращаем словарь с подсчитанными вхождениями\n",
        "    return counts\n",
        "\n",
        "# Пример использования функции\n",
        "example_text = \"hhello, world! I love life;)\"\n",
        "result = count_characters(example_text)\n",
        "print(result)\n"
      ]
    },
    {
      "cell_type": "markdown",
      "metadata": {
        "id": "KBGJ7PeboBGk"
      },
      "source": [
        "## Problem 4"
      ]
    },
    {
      "cell_type": "markdown",
      "metadata": {
        "id": "XS4Seqa9oBGk"
      },
      "source": [
        "### Implementing a Library Management System\n",
        "\n",
        "#### Description\n",
        "\n",
        "You are required to design and implement a system for managing books and users in a library. The system should allow for the management of books (adding, deleting, searching by various criteria) and users (registration, deletion, searching), as well as tracking the history of interactions between them (issuing and returning books).\n",
        "\n",
        "#### Tasks\n",
        "\n",
        "1. **`Book` Class**:\n",
        "   - Attributes: title, author, year of publication, ISBN, number of copies.\n",
        "   - Methods: constructor, methods to get information about the book, method to change the number of copies (when issuing and returning books).\n",
        "\n",
        "2. **`User` Class**:\n",
        "   - Attributes: user name, library card number, list of borrowed books.\n",
        "   - Methods: constructor, methods for user registration, methods for adding and removing books from the borrowed list.\n",
        "\n",
        "3. **`Library` Class**:\n",
        "   - Attributes: list of books, list of users, transaction history (who, when, which book was borrowed and returned).\n",
        "   - Methods: constructor, methods for adding and deleting books and users, methods for issuing and returning books, searching for books and users by various criteria, method to display the transaction history.\n",
        "\n",
        "#### Assignment\n",
        "\n",
        "1. Implement the `Book`, `User`, and `Library` classes with the specified attributes and methods.\n",
        "2. Create several books and users, and add them to the library system.\n",
        "3. Implement scenarios for issuing books to users and their return.\n",
        "4. Display the transaction history to show how books were issued and returned.\n"
      ]
    },
    {
      "cell_type": "code",
      "execution_count": null,
      "metadata": {
        "id": "IbqwtWWsoBGl",
        "outputId": "b9930839-d09b-4551-ebe7-f2aaa361b87f",
        "colab": {
          "base_uri": "https://localhost:8080/"
        }
      },
      "outputs": [
        {
          "output_type": "stream",
          "name": "stdout",
          "text": [
            "Библиотечная система успешно создана.\n",
            "\n",
            "Книга 'Война и мир' (1869) автора Лев Толстой с ISBN: 978-5-17-093330-8 добавлена. Количество копий: 5.\n",
            "Книга 'Преступление и наказание' (1866) автора Фёдор Достоевский с ISBN: 978-5-389-07474-7 добавлена. Количество копий: 3.\n",
            "Книга 'Война и мир' добавлена в библиотеку.\n",
            "Книга 'Преступление и наказание' добавлена в библиотеку.\n",
            "\n",
            "Пользователь Алиса с номером библиотеки 101 добавлен.\n",
            "Пользователь Боб с номером библиотеки 102 добавлен.\n",
            "Пользователь 'Алиса' добавлен в систему.\n",
            "Пользователь 'Боб' добавлен в систему.\n",
            "\n",
            "Количество копий книги 'Война и мир' изменено. Новое количество: 4\n",
            "Пользователь Алиса взял книгу 'Война и мир'.\n",
            "Количество копий книги 'Преступление и наказание' изменено. Новое количество: 2\n",
            "Пользователь Боб взял книгу 'Преступление и наказание'.\n",
            "Количество копий книги 'Преступление и наказание' изменено. Новое количество: 1\n",
            "Пользователь Алиса взял книгу 'Преступление и наказание'.\n",
            "\n",
            "Количество копий книги 'Война и мир' изменено. Новое количество: 5\n",
            "Пользователь Алиса вернул книгу 'Война и мир'.\n",
            "\n",
            "История транзакций:\n",
            "Выдана: Книга 'Война и мир' у пользователя Алиса.\n",
            "Выдана: Книга 'Преступление и наказание' у пользователя Боб.\n",
            "Выдана: Книга 'Преступление и наказание' у пользователя Алиса.\n",
            "Возвращена: Книга 'Война и мир' у пользователя Алиса.\n",
            "\n",
            "Результаты поиска книг по критерию 'author' = 'Лев Толстой':\n",
            "Название: Война и мир, Автор: Лев Толстой, Год: 1869, ISBN: 978-5-17-093330-8, Кол-во копий: 5\n",
            "\n",
            "Результаты поиска пользователей по критерию 'username' = 'Алиса':\n",
            "Имя: Алиса, Номер карты: 101\n",
            "\n",
            "Книга 'Война и мир' удалена из библиотеки.\n",
            "Книга 'Преступление и наказание' удалена из библиотеки.\n",
            "\n",
            "Пользователь 'Алиса' удален из системы.\n",
            "Пользователь 'Боб' удален из системы.\n"
          ]
        }
      ],
      "source": [
        "# Класс для представления книги\n",
        "class Book:\n",
        "    def __init__(self, title, author, year, isbn, copies):\n",
        "        # Инициализация атрибутов книги\n",
        "        self.title = title\n",
        "        self.author = author\n",
        "        self.year = year\n",
        "        self.isbn = isbn\n",
        "        self.copies = copies\n",
        "        print(f\"Книга '{title}' ({year}) автора {author} с ISBN: {isbn} добавлена. Количество копий: {copies}.\")\n",
        "\n",
        "    def get_info(self):\n",
        "        # Возвращает строку с информацией о книге\n",
        "        return f\"Название: {self.title}, Автор: {self.author}, Год: {self.year}, ISBN: {self.isbn}, Кол-во копий: {self.copies}\"\n",
        "\n",
        "    def change_copies(self, change):\n",
        "        # Изменяет количество копий книги на указанное значение\n",
        "        self.copies += change\n",
        "        if self.copies < 0:\n",
        "            self.copies = 0\n",
        "        print(f\"Количество копий книги '{self.title}' изменено. Новое количество: {self.copies}\")\n",
        "\n",
        "\n",
        "# Класс для представления пользователя\n",
        "class User:\n",
        "    def __init__(self, username, card_number):\n",
        "        # Инициализация атрибутов пользователя\n",
        "        self.username = username\n",
        "        self.card_number = card_number\n",
        "        self.borrowed_books = []  # Список взятых книг\n",
        "        print(f\"Пользователь {username} с номером библиотеки {card_number} добавлен.\")\n",
        "\n",
        "    def register(self, library):\n",
        "        # Регистрация пользователя в системе библиотеки\n",
        "        library.add_user(self)\n",
        "\n",
        "    def borrow_book(self, book):\n",
        "        # Пользователь берет книгу, если она доступна\n",
        "        if book.copies > 0:\n",
        "            self.borrowed_books.append(book)\n",
        "            book.change_copies(-1)\n",
        "            print(f\"Пользователь {self.username} взял книгу '{book.title}'.\")\n",
        "        else:\n",
        "            print(f\"Книга '{book.title}' недоступна для выдачи.\")\n",
        "\n",
        "    def return_book(self, book):\n",
        "        # Пользователь возвращает книгу, если она имеется в списке взятых\n",
        "        if book in self.borrowed_books:\n",
        "            self.borrowed_books.remove(book)\n",
        "            book.change_copies(1)\n",
        "            print(f\"Пользователь {self.username} вернул книгу '{book.title}'.\")\n",
        "        else:\n",
        "            print(f\"Пользователь {self.username} не брал книгу '{book.title}'.\")\n",
        "\n",
        "    def get_borrowed_books(self):\n",
        "        # Возвращает список названий книг, взятых пользователем\n",
        "        return [book.title for book in self.borrowed_books]\n",
        "\n",
        "\n",
        "# Класс для представления библиотеки\n",
        "class Library:\n",
        "    def __init__(self):\n",
        "        # Инициализация системы библиотеки\n",
        "        self.books = []                # Список книг\n",
        "        self.users = []                # Список пользователей\n",
        "        self.transaction_history = []  # История транзакций (выдача и возврат книг)\n",
        "        print(\"Библиотечная система успешно создана.\")\n",
        "\n",
        "    def add_book(self, book):\n",
        "        # Добавление книги в библиотеку, если её там ещё нет\n",
        "        if book not in self.books:\n",
        "            self.books.append(book)\n",
        "            print(f\"Книга '{book.title}' добавлена в библиотеку.\")\n",
        "        else:\n",
        "            print(f\"Книга '{book.title}' уже находится в библиотеке.\")\n",
        "\n",
        "    def delete_book(self, book):\n",
        "        # Удаление книги из библиотеки, если она там присутствует\n",
        "        if book in self.books:\n",
        "            self.books.remove(book)\n",
        "            print(f\"Книга '{book.title}' удалена из библиотеки.\")\n",
        "        else:\n",
        "            print(f\"Книга '{book.title}' не найдена в библиотеке.\")\n",
        "\n",
        "    def add_user(self, user):\n",
        "        # Добавление пользователя в систему, если его там ещё нет\n",
        "        if user not in self.users:\n",
        "            self.users.append(user)\n",
        "            print(f\"Пользователь '{user.username}' добавлен в систему.\")\n",
        "        else:\n",
        "            print(f\"Пользователь '{user.username}' уже существует в системе.\")\n",
        "\n",
        "    def delete_user(self, user):\n",
        "        # Удаление пользователя из системы, если он там присутствует\n",
        "        if user in self.users:\n",
        "            self.users.remove(user)\n",
        "            print(f\"Пользователь '{user.username}' удален из системы.\")\n",
        "        else:\n",
        "            print(f\"Пользователь '{user.username}' не найден в системе.\")\n",
        "\n",
        "    def issue_book(self, user, book):\n",
        "        # Выдача книги пользователю, если книга есть в библиотеке и доступна\n",
        "        if book not in self.books:\n",
        "            print(f\"Книга '{book.title}' не находится в библиотеке.\")\n",
        "            return\n",
        "        if book.copies > 0:\n",
        "            user.borrow_book(book)\n",
        "            self.transaction_history.append({\n",
        "                \"action\": \"Выдана\",\n",
        "                \"user\": user.username,\n",
        "                \"book\": book.title,\n",
        "            })\n",
        "        else:\n",
        "            print(f\"Книга '{book.title}' недоступна для выдачи.\")\n",
        "\n",
        "    def return_book(self, user, book):\n",
        "        # Возврат книги пользователем\n",
        "        if book in user.borrowed_books:\n",
        "            user.return_book(book)\n",
        "            self.transaction_history.append({\n",
        "                \"action\": \"Возвращена\",\n",
        "                \"user\": user.username,\n",
        "                \"book\": book.title,\n",
        "            })\n",
        "        else:\n",
        "            print(f\"Пользователь {user.username} не брал книгу '{book.title}'.\")\n",
        "\n",
        "    def search_books(self, criteria, value):\n",
        "        # Поиск книг по заданному критерию (например, author, title, year)\n",
        "        results = []\n",
        "        for book in self.books:\n",
        "            if getattr(book, criteria, None) == value:\n",
        "                results.append(book.get_info())\n",
        "        if results:\n",
        "            print(f\"Результаты поиска книг по критерию '{criteria}' = '{value}':\")\n",
        "            for info in results:\n",
        "                print(info)\n",
        "        else:\n",
        "            print(f\"Книги, соответствующей критерию '{criteria}' = '{value}' не найдены.\")\n",
        "        return results\n",
        "\n",
        "    def search_users(self, criteria, value):\n",
        "        # Поиск пользователей по заданному критерию (например, username, card_number)\n",
        "        results = []\n",
        "        for user in self.users:\n",
        "            if getattr(user, criteria, None) == value:\n",
        "                results.append(f\"Имя: {user.username}, Номер карты: {user.card_number}\")\n",
        "        if results:\n",
        "            print(f\"Результаты поиска пользователей по критерию '{criteria}' = '{value}':\")\n",
        "            for info in results:\n",
        "                print(info)\n",
        "        else:\n",
        "            print(f\"Пользователи, соответствующие критерию '{criteria}' = '{value}' не найдены.\")\n",
        "        return results\n",
        "\n",
        "    def display_transaction_history(self):\n",
        "        # Отображение истории транзакций\n",
        "        print(\"История транзакций:\")\n",
        "        for entry in self.transaction_history:\n",
        "            print(f\"{entry['action']}: Книга '{entry['book']}' у пользователя {entry['user']}.\")\n",
        "\n",
        "\n",
        "# Пример использования системы\n",
        "if __name__ == \"__main__\":\n",
        "    # Создание библиотеки\n",
        "    library = Library()\n",
        "    print()\n",
        "\n",
        "    # Добавление книг\n",
        "    book1 = Book(\"Война и мир\", \"Лев Толстой\", 1869, \"978-5-17-093330-8\", 5)\n",
        "    book2 = Book(\"Преступление и наказание\", \"Фёдор Достоевский\", 1866, \"978-5-389-07474-7\", 3)\n",
        "    library.add_book(book1)\n",
        "    library.add_book(book2)\n",
        "    print()\n",
        "\n",
        "    # Добавление пользователей\n",
        "    user1 = User(\"Алиса\", 101)\n",
        "    user2 = User(\"Боб\", 102)\n",
        "    user1.register(library)\n",
        "    user2.register(library)\n",
        "    print()\n",
        "\n",
        "    # Выдача книг\n",
        "    library.issue_book(user1, book1)  # Алиса берет \"Война и мир\"\n",
        "    library.issue_book(user2, book2)  # Боб берет \"Преступление и наказание\"\n",
        "    library.issue_book(user1, book2)  # Алиса берет \"Преступление и наказание\"\n",
        "    print()\n",
        "\n",
        "    # Возврат книг\n",
        "    library.return_book(user1, book1)  # Алиса возвращает \"Война и мир\"\n",
        "    print()\n",
        "\n",
        "    # Отображение истории транзакций\n",
        "    library.display_transaction_history()\n",
        "    print()\n",
        "\n",
        "    # Поиск книг по автору\n",
        "    library.search_books(\"author\", \"Лев Толстой\")\n",
        "    print()\n",
        "\n",
        "    # Поиск пользователей по имени\n",
        "    library.search_users(\"username\", \"Алиса\")\n",
        "    print()\n",
        "\n",
        "    # Удаление книг из библиотеки\n",
        "    library.delete_book(book1)\n",
        "    library.delete_book(book2)\n",
        "    print()\n",
        "\n",
        "    # Удаление пользователей из системы\n",
        "    library.delete_user(user1)\n",
        "    library.delete_user(user2)\n"
      ]
    },
    {
      "cell_type": "markdown",
      "metadata": {
        "id": "0c8zRbSIoBGl"
      },
      "source": [
        "## Problem 5*"
      ]
    },
    {
      "cell_type": "markdown",
      "metadata": {
        "id": "8ltdzRmOoBGl"
      },
      "source": [
        "Explain why list `b` changes after the execution of the following code:\n",
        "\n",
        "```python\n",
        "a = [1, 2, 3]\n",
        "b = a\n",
        "a[0] = 4\n",
        "print(b)\n",
        "```"
      ]
    },
    {
      "cell_type": "markdown",
      "metadata": {
        "id": "RxgnUfFPoBGl"
      },
      "source": [
        "> Write your answer in markdown cell after:"
      ]
    },
    {
      "cell_type": "markdown",
      "metadata": {
        "id": "Mb-amOX5oBGl"
      },
      "source": [
        "В Python переменные хранят ссылки на объекты, а не сами объекты. Когда мы пишем b = a, обе переменные a и b начинают ссылаться на один и тот же список в памяти. Это значит, что любое изменение списка через a повлияет и на b.\n",
        "\n",
        "Чтобы этого избежать, необходимо создать копию списка, а не копировать ссылку. Для этого можно использовать:\n",
        "\n",
        "Метод `.copy()` – создаёт поверхностную копию списка.\n",
        "\n",
        "Функцию `list()` – аналогичен `.copy()`.\n",
        "Модуль `copy.deepcopy()` – создаёт глубокую копию, которая полезна при наличии вложенных списков."
      ]
    },
    {
      "cell_type": "code",
      "source": [
        "import copy  # Подключаем модуль для глубокого копирования\n",
        "\n",
        "# Пример с копированием ссылки (неправильный вариант)\n",
        "a = [1, 2, 3]  # Создаём список\n",
        "b = a  # b ссылается на тот же объект, что и a\n",
        "a[0] = 4  # Изменяем первый элемент списка\n",
        "print(b)  # Выведет: [4, 2, 3] — b тоже изменился, так как это тот же объект\n",
        "\n",
        "# Правильный способ: поверхностное копирование\n",
        "a = [1, 2, 3]\n",
        "b = a.copy()  # Создаём копию списка\n",
        "a[0] = 4  # Изменяем a, но b остаётся неизменным\n",
        "print(b)  # Выведет: [1, 2, 3]\n",
        "\n",
        "# Альтернативный способ: использование list()\n",
        "a = [1, 2, 3]\n",
        "b = list(a)  # Создаём новый список на основе a\n",
        "a[0] = 4\n",
        "print(b)  # Выведет: [1, 2, 3]\n",
        "\n",
        "# Глубокое копирование для вложенных структур\n",
        "a = [1, [2, 3], 4]\n",
        "b = copy.deepcopy(a)  # Полностью копируем объект, включая вложенные списки\n",
        "a[1][0] = 'изменено'  # Меняем вложенный список\n",
        "print(b)  # Выведет: [1, [2, 3], 4] — вложенные элементы не изменились"
      ],
      "metadata": {
        "id": "9bBQ73AZQHy3"
      },
      "execution_count": null,
      "outputs": []
    },
    {
      "cell_type": "markdown",
      "metadata": {
        "id": "TmXLkc_foBGl"
      },
      "source": [
        "## Problem 6*"
      ]
    },
    {
      "cell_type": "markdown",
      "metadata": {
        "id": "Gn0ibiVCoBGl"
      },
      "source": [
        "Let\n",
        "$$A = \\sum_{i=1}^{10000} \\frac{1}{i^2},\\quad B=\\sum_{i=10000}^{1} \\frac{1}{i^2}.$$\n",
        "Calculate the values of $A$ and $B$ and compare them. What do you observe? Explain why this happens. What is the best way to calculate the value of $\\sum\\limits_{i=1}^{10000} \\dfrac{1}{i^2}$?"
      ]
    },
    {
      "cell_type": "code",
      "execution_count": null,
      "metadata": {
        "id": "3q93uGqFoBGl",
        "outputId": "4c4dbf09-76d2-432e-c89b-f3d2e63896fe",
        "colab": {
          "base_uri": "https://localhost:8080/"
        }
      },
      "outputs": [
        {
          "output_type": "stream",
          "name": "stdout",
          "text": [
            "A = 1.6448340718480652\n",
            "B = 1.6448340718480596\n",
            "Разница A - B = 5.551115123125783e-15\n"
          ]
        }
      ],
      "source": [
        "\"\"\"\n",
        "Данный код демонстрирует, как порядок суммирования влияет на точность вычислений при работе с числами с плавающей точкой.\n",
        "Мы вычисляем сумму S = ∑(1/i^2) для i от 1 до 10000 двумя способами:\n",
        "\n",
        "1. Суммирование в прямом порядке (переменная A):\n",
        "   - Сначала прибавляются большие слагаемые (например, 1, 1/4, 1/9 и т.д.),\n",
        "     а затем очень маленькие (например, 1/10000^2).\n",
        "   - При накоплении большой суммы прибавление очень маленьких чисел может не изменить сумму\n",
        "     из-за ограниченной точности представления чисел с плавающей точкой.\n",
        "   - Это приводит к тому, что итоговая сумма A может оказаться несколько завышенной.\n",
        "\n",
        "2. Суммирование в обратном порядке (переменная B):\n",
        "   - Сначала прибавляются маленькие слагаемые, что позволяет аккуратно их накопить,\n",
        "     а затем постепенно прибавляются большие.\n",
        "   - Такой порядок суммирования позволяет минимизировать потерю точности,\n",
        "     так как на каждом шаге слагаемые имеют сравнимые порядки величины.\n",
        "\n",
        "Таким образом, вычисленная сумма B оказывается более точной, чем A.\n",
        "Разница между ними (порядка 1e-15) является следствием ошибок округления при сложении\n",
        "вещественных чисел. Этот пример иллюстрирует, что выбор порядка операций важен для численных вычислений.\n",
        "\"\"\"\n",
        "\n",
        "# Инициализируем переменные для сумм A и B\n",
        "A, B = 0.0, 0.0\n",
        "\n",
        "# Суммирование по i от 1 до 10000:\n",
        "# A - прямой порядок (от больших слагаемых к меньшим)\n",
        "# B - обратный порядок (от меньших слагаемых к большим)\n",
        "for i in range(1, 10001):\n",
        "    A += 1 / (i ** 2)             # Прибавляем большие слагаемые в начале, затем маленькие\n",
        "    B += 1 / ((10001 - i) ** 2)     # Прибавляем маленькие слагаемые в начале, затем большие\n",
        "\n",
        "# Вывод результатов\n",
        "print(\"A =\", A)                  # Результат суммирования в прямом порядке\n",
        "print(\"B =\", B)                  # Результат суммирования в обратном порядке\n",
        "print(\"Разница A - B =\", A - B)  # Разница между суммами, показывающая влияние ошибок округления\n"
      ]
    }
  ],
  "metadata": {
    "colab": {
      "provenance": []
    },
    "kernelspec": {
      "display_name": "Python 3",
      "language": "python",
      "name": "python3"
    },
    "language_info": {
      "codemirror_mode": {
        "name": "ipython",
        "version": 3
      },
      "file_extension": ".py",
      "mimetype": "text/x-python",
      "name": "python",
      "nbconvert_exporter": "python",
      "pygments_lexer": "ipython3",
      "version": "3.10.6"
    }
  },
  "nbformat": 4,
  "nbformat_minor": 0
}